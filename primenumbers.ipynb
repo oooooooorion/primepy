{
 "cells": [
  {
   "cell_type": "code",
   "execution_count": 1,
   "id": "95bdb9da-7abc-48bf-910c-503dc2ba9fed",
   "metadata": {},
   "outputs": [],
   "source": [
    "#tests if 'testedNumber' is a prime number, returns a boolean\n",
    "def isPrime(testedNumber):\n",
    "    isTestedNumberPrime = False\n",
    "    flag = False\n",
    "    if testedNumber > 1:\n",
    "        for den in range(2, testedNumber - 1):\n",
    "            if (testedNumber % den) == 0:\n",
    "                flag = True\n",
    "                isTestedNumberPrime = False\n",
    "    if flag == False:\n",
    "        isTestedNumberPrime = True\n",
    "    return(isTestedNumberPrime)"
   ]
  },
  {
   "cell_type": "code",
   "execution_count": 2,
   "id": "163917e9-c4e1-4153-b30b-0017fde544fd",
   "metadata": {},
   "outputs": [],
   "source": [
    "#runs 'isPrime()' function and adds to 'prime' array all prime numbers\n",
    "def primeLoop(maxTestedNumber):\n",
    "    primes = []\n",
    "    for number in range(2, maxTestedNumber):\n",
    "        if isPrime(number) == True:\n",
    "            primes.append(number)\n",
    "    return(primes)\n"
   ]
  },
  {
   "cell_type": "code",
   "execution_count": 3,
   "id": "b0750372-8826-47b8-a2b8-d982d6a0e5ac",
   "metadata": {},
   "outputs": [],
   "source": [
    "#run primeLoop() to get all prime numbers from 2 to 'maxTestedNumber'"
   ]
  },
  {
   "cell_type": "code",
   "execution_count": null,
   "id": "9a3ede19-f243-4347-b481-0f7426752bb6",
   "metadata": {},
   "outputs": [],
   "source": []
  },
  {
   "cell_type": "code",
   "execution_count": null,
   "id": "34673a06-a35b-46d4-bea1-4f40a765a704",
   "metadata": {},
   "outputs": [],
   "source": []
  }
 ],
 "metadata": {
  "kernelspec": {
   "display_name": "Python 3 (ipykernel)",
   "language": "python",
   "name": "python3"
  },
  "language_info": {
   "codemirror_mode": {
    "name": "ipython",
    "version": 3
   },
   "file_extension": ".py",
   "mimetype": "text/x-python",
   "name": "python",
   "nbconvert_exporter": "python",
   "pygments_lexer": "ipython3",
   "version": "3.8.10"
  }
 },
 "nbformat": 4,
 "nbformat_minor": 5
}
